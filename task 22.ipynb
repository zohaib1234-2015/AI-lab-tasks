{
 "cells": [
  {
   "cell_type": "code",
   "execution_count": 6,
   "metadata": {},
   "outputs": [],
   "source": [
    "first_names = [\"Atif Aslam \", \"Fawad \", \"Bilal saeed \", \"Momina \", \"Abdul \"]  \n",
    "last_names = [\"Zzz\", \"Burp\", \"Dogbone\", \"Droop\"] \n",
    "full_names = [] \n",
    "for a_first_name in first_names:\n",
    "    for a_last_name in last_names: \n",
    "        full_names.append(a_first_name + \" \" + a_last_name) "
   ]
  },
  {
   "cell_type": "code",
   "execution_count": 7,
   "metadata": {},
   "outputs": [
    {
     "name": "stdout",
     "output_type": "stream",
     "text": [
      "['Atif Aslam  Zzz', 'Atif Aslam  Burp', 'Atif Aslam  Dogbone', 'Atif Aslam  Droop', 'Fawad  Zzz', 'Fawad  Burp', 'Fawad  Dogbone', 'Fawad  Droop', 'Bilal saeed  Zzz', 'Bilal saeed  Burp', 'Bilal saeed  Dogbone', 'Bilal saeed  Droop', 'Momina  Zzz', 'Momina  Burp', 'Momina  Dogbone', 'Momina  Droop', 'Abdul  Zzz', 'Abdul  Burp', 'Abdul  Dogbone', 'Abdul  Droop']\n"
     ]
    }
   ],
   "source": [
    "print(full_names)"
   ]
  },
  {
   "cell_type": "code",
   "execution_count": null,
   "metadata": {},
   "outputs": [],
   "source": []
  }
 ],
 "metadata": {
  "kernelspec": {
   "display_name": "Python 3",
   "language": "python",
   "name": "python3"
  },
  "language_info": {
   "codemirror_mode": {
    "name": "ipython",
    "version": 3
   },
   "file_extension": ".py",
   "mimetype": "text/x-python",
   "name": "python",
   "nbconvert_exporter": "python",
   "pygments_lexer": "ipython3",
   "version": "3.6.5"
  }
 },
 "nbformat": 4,
 "nbformat_minor": 2
}
