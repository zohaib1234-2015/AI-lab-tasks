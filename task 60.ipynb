{
 "cells": [
  {
   "cell_type": "code",
   "execution_count": 3,
   "metadata": {},
   "outputs": [],
   "source": [
    "pid4343 = Patient(\"Taleb\", \"Sue\", 61)\n",
    "class Patient(): \n",
    "    def __init__(self, last_name, first_name, age):\n",
    "        self.last_name = last_name \n",
    "        self.first_name = first_name\n",
    "        self.age = age \n",
    "        def say_if_minor(self): \n",
    "            if self.age < 21: \n",
    "                print(self.first_name + \" \" + self.last_name + \" is a minor\") "
   ]
  }
 ],
 "metadata": {
  "kernelspec": {
   "display_name": "Python 3",
   "language": "python",
   "name": "python3"
  },
  "language_info": {
   "codemirror_mode": {
    "name": "ipython",
    "version": 3
   },
   "file_extension": ".py",
   "mimetype": "text/x-python",
   "name": "python",
   "nbconvert_exporter": "python",
   "pygments_lexer": "ipython3",
   "version": "3.6.5"
  }
 },
 "nbformat": 4,
 "nbformat_minor": 2
}
