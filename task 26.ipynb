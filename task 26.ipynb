{
 "cells": [
  {
   "cell_type": "code",
   "execution_count": 4,
   "metadata": {},
   "outputs": [
    {
     "name": "stdout",
     "output_type": "stream",
     "text": [
      "{'first name': 'Sajid', 'last name': 'Lakhani', 'address': 'house no. 204 khi.'}\n"
     ]
    }
   ],
   "source": [
    "jobs_to_do_1st = [\"email\", \"texting\", \"calls\"]\n",
    "customer_29876 = {\"first name\": \"Sajid\", \"last name\": \"Lakhani\", \"address\": \"house no. 204 khi.\"}\n",
    "print(customer_29876)"
   ]
  },
  {
   "cell_type": "code",
   "execution_count": null,
   "metadata": {},
   "outputs": [],
   "source": []
  }
 ],
 "metadata": {
  "kernelspec": {
   "display_name": "Python 3",
   "language": "python",
   "name": "python3"
  },
  "language_info": {
   "codemirror_mode": {
    "name": "ipython",
    "version": 3
   },
   "file_extension": ".py",
   "mimetype": "text/x-python",
   "name": "python",
   "nbconvert_exporter": "python",
   "pygments_lexer": "ipython3",
   "version": "3.6.5"
  }
 },
 "nbformat": 4,
 "nbformat_minor": 2
}
