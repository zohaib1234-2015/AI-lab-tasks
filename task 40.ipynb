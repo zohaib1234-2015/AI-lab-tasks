{
 "cells": [
  {
   "cell_type": "code",
   "execution_count": 1,
   "metadata": {},
   "outputs": [
    {
     "name": "stdout",
     "output_type": "stream",
     "text": [
      "Jill\n"
     ]
    }
   ],
   "source": [
    "customers = { \n",
    "    0: { \n",
    "        \"first name\":\"John\", \n",
    "        \"last name\": \"Ogden\", \n",
    "        \"address\": \"301 Arbor Rd.\", \n",
    "    }, \n",
    "    1: { \n",
    "        \"first name\":\"Ann\", \n",
    "        \"last name\": \"Sattermyer\", \n",
    "        \"address\": \"PO Box 1145\", \n",
    "    }, \n",
    "    2: { \n",
    "        \"first name\":\"Jill\", \n",
    "        \"last name\": \"Somers\", \n",
    "        \"address\": \"3 Main St.\", \n",
    "    }, \n",
    "}\n",
    "print(customers[2][\"first name\"])"
   ]
  },
  {
   "cell_type": "code",
   "execution_count": null,
   "metadata": {},
   "outputs": [],
   "source": []
  }
 ],
 "metadata": {
  "kernelspec": {
   "display_name": "Python 3",
   "language": "python",
   "name": "python3"
  },
  "language_info": {
   "codemirror_mode": {
    "name": "ipython",
    "version": 3
   },
   "file_extension": ".py",
   "mimetype": "text/x-python",
   "name": "python",
   "nbconvert_exporter": "python",
   "pygments_lexer": "ipython3",
   "version": "3.6.5"
  }
 },
 "nbformat": 4,
 "nbformat_minor": 2
}
