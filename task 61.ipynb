{
 "cells": [
  {
   "cell_type": "code",
   "execution_count": 1,
   "metadata": {},
   "outputs": [],
   "source": [
    "class Patient(): \n",
    "    def __init__(self, last_name, first_name, age): \n",
    "        self.last_name = last_name \n",
    "        self.first_name = first_name \n",
    "        self.age = age \n",
    "        def say_if_minor(self): \n",
    "            if self.age < 21: \n",
    "                print(\"This patient is a minor\") \n",
    "                def change_last_name(self, new_last_name): \n",
    "                    self.last_name = new_last_name "
   ]
  }
 ],
 "metadata": {
  "kernelspec": {
   "display_name": "Python 3",
   "language": "python",
   "name": "python3"
  },
  "language_info": {
   "codemirror_mode": {
    "name": "ipython",
    "version": 3
   },
   "file_extension": ".py",
   "mimetype": "text/x-python",
   "name": "python",
   "nbconvert_exporter": "python",
   "pygments_lexer": "ipython3",
   "version": "3.6.5"
  }
 },
 "nbformat": 4,
 "nbformat_minor": 2
}
