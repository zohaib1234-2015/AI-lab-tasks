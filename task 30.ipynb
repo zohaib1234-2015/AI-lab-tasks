{
 "cells": [
  {
   "cell_type": "code",
   "execution_count": 3,
   "metadata": {},
   "outputs": [
    {
     "name": "stdout",
     "output_type": "stream",
     "text": [
      "Removing And Changing Items In Dictionary\n",
      "{'first name': 'Sajid', 'last name': 'Lakhani'}\n"
     ]
    }
   ],
   "source": [
    "print('Removing And Changing Items In Dictionary')\n",
    "customer_1 = {\"first name\": \"Sajid\", \"last name\": \"Lakhani\", \"address\": \"House no. 204 khi.\"}\n",
    "del customer_1[\"address\"]\n",
    "print(customer_1)"
   ]
  },
  {
   "cell_type": "code",
   "execution_count": 4,
   "metadata": {},
   "outputs": [
    {
     "name": "stdout",
     "output_type": "stream",
     "text": [
      "{'first name': 'Sajid', 'last name': 'Lakhani', 'address': 'Garden West'}\n"
     ]
    }
   ],
   "source": [
    "customer_1[\"address\"] = \"Garden West\"\n",
    "print(customer_1)"
   ]
  },
  {
   "cell_type": "code",
   "execution_count": null,
   "metadata": {},
   "outputs": [],
   "source": []
  }
 ],
 "metadata": {
  "kernelspec": {
   "display_name": "Python 3",
   "language": "python",
   "name": "python3"
  },
  "language_info": {
   "codemirror_mode": {
    "name": "ipython",
    "version": 3
   },
   "file_extension": ".py",
   "mimetype": "text/x-python",
   "name": "python",
   "nbconvert_exporter": "python",
   "pygments_lexer": "ipython3",
   "version": "3.6.5"
  }
 },
 "nbformat": 4,
 "nbformat_minor": 2
}
