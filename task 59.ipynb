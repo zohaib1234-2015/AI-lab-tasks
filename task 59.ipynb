{
 "cells": [
  {
   "cell_type": "code",
   "execution_count": null,
   "metadata": {},
   "outputs": [],
   "source": [
    "pid4343 = Patient(\"Taleb\", \"Sue\", 61)\n",
    "class Patient(): \n",
    "             def say_if_minor(patient_first_name, patient_last_name, patient_age): \n",
    "              if patient_age < 21: \n",
    "                    print(patient_first_name + \" \" + patient_last_name + \"  is a minor\")\n",
    "say_if_minor(pid4343.first_name, pid4343.last_name, pid4343.age)"
   ]
  }
 ],
 "metadata": {
  "kernelspec": {
   "display_name": "Python 3",
   "language": "python",
   "name": "python3"
  },
  "language_info": {
   "codemirror_mode": {
    "name": "ipython",
    "version": 3
   },
   "file_extension": ".py",
   "mimetype": "text/x-python",
   "name": "python",
   "nbconvert_exporter": "python",
   "pygments_lexer": "ipython3",
   "version": "3.6.5"
  }
 },
 "nbformat": 4,
 "nbformat_minor": 2
}
