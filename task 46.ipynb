{
 "cells": [
  {
   "cell_type": "code",
   "execution_count": 10,
   "metadata": {},
   "outputs": [
    {
     "name": "stdout",
     "output_type": "stream",
     "text": [
      "The winner was Real Madrid\n",
      "The score was 1-0\n",
      "Overtime yes\n",
      "Injuries none\n"
     ]
    }
   ],
   "source": [
    "winner=\"Real Madrid\"\n",
    "score=\"1-0\"\n",
    "overtime =\"yes\"\n",
    "injuries=\"none\"\n",
    "def display_result(winner, score, overtime, injuries): \n",
    "        print(\"The winner was \" + winner) \n",
    "        print(\"The score was \" + score) \n",
    "        print(\"Overtime \" +overtime)\n",
    "        print(\"Injuries \" +injuries)\n",
    "display_result(winner, score, overtime, injuries)"
   ]
  },
  {
   "cell_type": "code",
   "execution_count": null,
   "metadata": {},
   "outputs": [],
   "source": []
  },
  {
   "cell_type": "code",
   "execution_count": null,
   "metadata": {},
   "outputs": [],
   "source": []
  }
 ],
 "metadata": {
  "kernelspec": {
   "display_name": "Python 3",
   "language": "python",
   "name": "python3"
  },
  "language_info": {
   "codemirror_mode": {
    "name": "ipython",
    "version": 3
   },
   "file_extension": ".py",
   "mimetype": "text/x-python",
   "name": "python",
   "nbconvert_exporter": "python",
   "pygments_lexer": "ipython3",
   "version": "3.6.5"
  }
 },
 "nbformat": 4,
 "nbformat_minor": 2
}
