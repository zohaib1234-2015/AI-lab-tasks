{
 "cells": [
  {
   "cell_type": "code",
   "execution_count": 7,
   "metadata": {},
   "outputs": [
    {
     "name": "stdout",
     "output_type": "stream",
     "text": [
      "User Response is Yes\n",
      "User response time is 5sec\n",
      "Time limit is 10sec\n"
     ]
    }
   ],
   "source": [
    "user_response = \"Yes\"\n",
    "user_response_time = \"5sec\"\n",
    "user_response_time_limit = \"10sec\"\n",
    "print(\"User Response is \"+ user_response)\n",
    "print(\"User response time is \"+user_response_time)\n",
    "print(\"Time limit is \" +user_response_time_limit)"
   ]
  },
  {
   "cell_type": "code",
   "execution_count": null,
   "metadata": {},
   "outputs": [],
   "source": []
  }
 ],
 "metadata": {
  "kernelspec": {
   "display_name": "Python 3",
   "language": "python",
   "name": "python3"
  },
  "language_info": {
   "codemirror_mode": {
    "name": "ipython",
    "version": 3
   },
   "file_extension": ".py",
   "mimetype": "text/x-python",
   "name": "python",
   "nbconvert_exporter": "python",
   "pygments_lexer": "ipython3",
   "version": "3.6.5"
  }
 },
 "nbformat": 4,
 "nbformat_minor": 2
}
