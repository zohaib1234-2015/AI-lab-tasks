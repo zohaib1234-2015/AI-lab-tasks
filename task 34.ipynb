{
 "cells": [
  {
   "cell_type": "code",
   "execution_count": 3,
   "metadata": {},
   "outputs": [
    {
     "name": "stdout",
     "output_type": "stream",
     "text": [
      "Creating a list of dictionaries\n",
      "List in INTEGER is :\n",
      "[101, 102, 103]\n"
     ]
    }
   ],
   "source": [
    "print(\"Creating a list of dictionaries\")\n",
    "customer_ids = [101, 102, 103]\n",
    "print(\"List in INTEGER is :\")\n",
    "print(customer_ids)"
   ]
  },
  {
   "cell_type": "code",
   "execution_count": 4,
   "metadata": {},
   "outputs": [
    {
     "name": "stdout",
     "output_type": "stream",
     "text": [
      "List IN STRING Is: \n",
      "[{'customer id': 0, 'first name': 'John', 'last name': 'Ogden', 'address': '301 Arbor Rd.'}, {'customer id': 1, 'first name': 'Ann', 'last name': 'Sattermyer', 'address': 'PO Box 1145'}, {'customer id': 2, 'first name': 'Jill', 'last name': 'Somers', 'address': '3 Main St.'}]\n"
     ]
    }
   ],
   "source": [
    "print(\"List IN STRING Is: \")\n",
    "customers = [\n",
    "       { \n",
    "            \"customer id\": 0, \n",
    "           \"first name\":\"John\", \n",
    "           \"last name\": \"Ogden\", \n",
    "             \"address\": \"301 Arbor Rd.\", \n",
    "       },  \n",
    "    { \n",
    "        \"customer id\": 1, \n",
    "        \"first name\":\"Ann\", \n",
    "        \"last name\": \"Sattermyer\", \n",
    "        \"address\": \"PO Box 1145\", \n",
    "    },  \n",
    "    { \n",
    "        \"customer id\": 2, \n",
    "        \"first name\":\"Jill\", \n",
    "        \"last name\": \"Somers\",\n",
    "         \"address\": \"3 Main St.\", \n",
    "    }, \n",
    "] \n",
    "\n",
    "print(customers)"
   ]
  },
  {
   "cell_type": "code",
   "execution_count": null,
   "metadata": {},
   "outputs": [],
   "source": []
  }
 ],
 "metadata": {
  "kernelspec": {
   "display_name": "Python 3",
   "language": "python",
   "name": "python3"
  },
  "language_info": {
   "codemirror_mode": {
    "name": "ipython",
    "version": 3
   },
   "file_extension": ".py",
   "mimetype": "text/x-python",
   "name": "python",
   "nbconvert_exporter": "python",
   "pygments_lexer": "ipython3",
   "version": "3.6.5"
  }
 },
 "nbformat": 4,
 "nbformat_minor": 2
}
