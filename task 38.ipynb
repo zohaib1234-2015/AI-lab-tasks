{
 "cells": [
  {
   "cell_type": "code",
   "execution_count": null,
   "metadata": {},
   "outputs": [],
   "source": [
    "customers = { \n",
    "    \"first name\": \"David\",  \"last name\": \"Elliott\",  \"address\": \"4803 Wellesley St.\", \"discounts\": [\"standard\", \"volume\", \"loyalty\"], \n",
    " \n",
    "if \"brother-in-law\" in customers[\"discounts\"]:\n",
    "    discount_amount = .30 \n",
    "    elif \"loyalty\" in customers[\"discounts\"]: \n",
    "    discount_amount = .15 \n",
    "    elif \"volume\" in customers[\"discounts\"]:\n",
    "    discount_amount = .10 \n",
    "    elif \"standard\" in customers[\"discounts\"]: \n",
    "    discount_amount = .05"
   ]
  }
 ],
 "metadata": {
  "kernelspec": {
   "display_name": "Python 3",
   "language": "python",
   "name": "python3"
  },
  "language_info": {
   "codemirror_mode": {
    "name": "ipython",
    "version": 3
   },
   "file_extension": ".py",
   "mimetype": "text/x-python",
   "name": "python",
   "nbconvert_exporter": "python",
   "pygments_lexer": "ipython3",
   "version": "3.6.5"
  }
 },
 "nbformat": 4,
 "nbformat_minor": 2
}
